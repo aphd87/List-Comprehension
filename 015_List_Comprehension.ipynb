{
 "cells": [
  {
   "cell_type": "code",
   "execution_count": 1,
   "id": "12986711",
   "metadata": {},
   "outputs": [],
   "source": [
    "#List comprehension\n",
    "#Simpler and intuitive way to complete and interate lists...\n",
    "\n",
    "my_list = [1,2,3,4,5]\n",
    "my_new_list = []\n",
    "\n",
    "for i in my_list:\n",
    "    my_new_list.append(i) \n",
    "\n",
    "my_new_list = [i for i in my_list] #I an putting i in my_new_list - remember, \"i\" can be called anything\n",
    "\n"
   ]
  },
  {
   "cell_type": "code",
   "execution_count": 4,
   "id": "0ce0df83",
   "metadata": {},
   "outputs": [],
   "source": [
    "#List comprehension\n",
    "#Simpler and intuitive way to complete and interate lists...\n",
    "\n",
    "my_list = [1,2,3,4,5]\n",
    "my_new_list = []\n",
    "\n",
    "for i in my_list:\n",
    "    my_new_list.append(i*i) \n",
    "\n",
    "my_new_list = [i*i for i in my_list] #I an putting i in my_new_list - remember, \"i\" can be called anything\n",
    "\n"
   ]
  },
  {
   "cell_type": "code",
   "execution_count": 5,
   "id": "d8b357de",
   "metadata": {},
   "outputs": [
    {
     "data": {
      "text/plain": [
       "[1, 4, 9, 16, 25]"
      ]
     },
     "execution_count": 5,
     "metadata": {},
     "output_type": "execute_result"
    }
   ],
   "source": [
    "my_new_list"
   ]
  },
  {
   "cell_type": "code",
   "execution_count": 8,
   "id": "e932cc26",
   "metadata": {},
   "outputs": [],
   "source": [
    "#List comprehension\n",
    "#Simpler and intuitive way to complete and interate lists...\n",
    "\n",
    "my_list = [1,2,3,4,5]\n",
    "my_new_list = []\n",
    "\n",
    "for i in my_list:\n",
    "  if i % 2 == 0:\n",
    "    my_new_list.append(i) \n",
    "\n",
    "my_new_list = [i for i in my_list if i % 2 == 0] #I an putting i in my_new_list - remember, \"i\" can be called anything\n",
    "#for every element in my list append it to my list if it is divisible by 2\n"
   ]
  },
  {
   "cell_type": "code",
   "execution_count": 9,
   "id": "5c42ad01",
   "metadata": {},
   "outputs": [],
   "source": [
    "def square_root(number):\n",
    "    return number ** 0.5\n",
    "my_list = [1,4,9,16,25]\n",
    "\n",
    "my_new_list = [square_root(i) for i in my_list]"
   ]
  },
  {
   "cell_type": "code",
   "execution_count": 11,
   "id": "90aa0a71",
   "metadata": {},
   "outputs": [
    {
     "data": {
      "text/plain": [
       "[1.0, 2.0, 3.0, 4.0, 5.0]"
      ]
     },
     "execution_count": 11,
     "metadata": {},
     "output_type": "execute_result"
    }
   ],
   "source": [
    "my_new_list"
   ]
  },
  {
   "cell_type": "code",
   "execution_count": 12,
   "id": "e9fa6632",
   "metadata": {},
   "outputs": [],
   "source": [
    "my_list = [[1,8], [2,3],[3,17]]"
   ]
  },
  {
   "cell_type": "code",
   "execution_count": 14,
   "id": "cd54b1cc",
   "metadata": {},
   "outputs": [],
   "source": [
    "my_new_list = [i[0] for i in my_list] #Return the first element in each list"
   ]
  },
  {
   "cell_type": "code",
   "execution_count": 15,
   "id": "5066b4b2",
   "metadata": {},
   "outputs": [
    {
     "data": {
      "text/plain": [
       "[1, 2, 3]"
      ]
     },
     "execution_count": 15,
     "metadata": {},
     "output_type": "execute_result"
    }
   ],
   "source": [
    "my_new_list"
   ]
  },
  {
   "cell_type": "code",
   "execution_count": 16,
   "id": "96688b5e",
   "metadata": {},
   "outputs": [],
   "source": [
    "#Extract first element in list - the one that had the highest second element (in this case 3,17)\n",
    "\n",
    "my_new_list = [i[0] for i in my_list if i[1] == max(i[1] for i in my_list)] \n",
    "#First element for i in my list if i[1] the second element is equal to the maxiumum \n",
    "#Of all of those second elements for i in my list\n",
    "\n"
   ]
  },
  {
   "cell_type": "code",
   "execution_count": 17,
   "id": "c6ec87c2",
   "metadata": {},
   "outputs": [
    {
     "data": {
      "text/plain": [
       "[3]"
      ]
     },
     "execution_count": 17,
     "metadata": {},
     "output_type": "execute_result"
    }
   ],
   "source": [
    "my_new_list #This gives 3, as 17 is the highest second element in the my_list above"
   ]
  },
  {
   "cell_type": "code",
   "execution_count": null,
   "id": "c0c7fa31",
   "metadata": {},
   "outputs": [],
   "source": []
  }
 ],
 "metadata": {
  "kernelspec": {
   "display_name": "Python 3 (ipykernel)",
   "language": "python",
   "name": "python3"
  },
  "language_info": {
   "codemirror_mode": {
    "name": "ipython",
    "version": 3
   },
   "file_extension": ".py",
   "mimetype": "text/x-python",
   "name": "python",
   "nbconvert_exporter": "python",
   "pygments_lexer": "ipython3",
   "version": "3.11.5"
  }
 },
 "nbformat": 4,
 "nbformat_minor": 5
}
